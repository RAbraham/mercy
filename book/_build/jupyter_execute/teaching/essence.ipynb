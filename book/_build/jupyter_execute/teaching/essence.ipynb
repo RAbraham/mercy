{
 "cells": [
  {
   "cell_type": "markdown",
   "metadata": {},
   "source": [
    "# An Unnecessarily Long-Winded Introduction to the Essence of Datalog"
   ]
  },
  {
   "cell_type": "markdown",
   "metadata": {},
   "source": [
    "In this post, I'll gradually build up to a naive implementation of the Datalog engine. An updated version of this post can be found [here](https://rabraham.github.io/mercylog/teaching/essence.html)"
   ]
  },
  {
   "cell_type": "markdown",
   "metadata": {},
   "source": [
    "## Datalog Concepts\n",
    "\n",
    "Let's start with a simple Datalog Program.\n",
    "\n",
    "We can have simple `facts` in our database. e.g. Bob is a man. Abe is a man. In Datalog, we write it as:\n",
    "\n",
    "```\n",
    "man(\"Bob\")\n",
    "man(\"Abe\")\n",
    "```\n",
    "\n",
    "`man` is like a table in a database. `man(\"Bob\")` is a relation in that table. We'll also call it a `base` relation.\n",
    "\n",
    "Next, we create the business logic i.e. `rules`.\n",
    "\n",
    "Someone is a person if he is a man\n",
    "`person(X) :- man(X)`\n",
    "\n",
    "`person(X)` is a `derived` relation, as it is derived from some base relation `man(X)`. This is similar to a view in the database.\n",
    "\n",
    "`X` is a `logical variable`. So `man(X)` could be used to refer to all `man` relations in the database."
   ]
  },
  {
   "cell_type": "code",
   "execution_count": 1,
   "metadata": {},
   "outputs": [],
   "source": [
    "from typing import *\n",
    "from dataclasses import dataclass\n",
    "from pprint import pprint"
   ]
  },
  {
   "cell_type": "markdown",
   "metadata": {},
   "source": [
    "We can create a logical variable like this:"
   ]
  },
  {
   "cell_type": "code",
   "execution_count": 2,
   "metadata": {},
   "outputs": [],
   "source": [
    "@dataclass(frozen=True)\n",
    "class Variable:\n",
    "    name: str"
   ]
  },
  {
   "cell_type": "code",
   "execution_count": 3,
   "metadata": {},
   "outputs": [],
   "source": [
    "X = Variable('X')"
   ]
  },
  {
   "cell_type": "markdown",
   "metadata": {},
   "source": [
    "A relation could be:\n",
    "\n",
    "`man(\"Bob\")`\n",
    "\n",
    "`parent(\"John\", \"Chester\")` # John is a parent of Chester\n",
    "\n",
    "It could also be components of a rule e.g.\n",
    "`man(X)` or `person(X)` in `person(X) :- man(X)`\n",
    "\n",
    "So a relation has a name(e.g. `parent`) and a list of attributes(e.g. `\"John\"` and `\"Chester\"` or `X`)."
   ]
  },
  {
   "cell_type": "code",
   "execution_count": 4,
   "metadata": {},
   "outputs": [],
   "source": [
    "@dataclass(frozen=True, eq=True)\n",
    "class Relation:\n",
    "    \"\"\"\n",
    "    man(\"Bob) is Relation(\"man\", (\"Bob\",)) # (\"Bob\",) is a single valued tuple\n",
    "    parent(\"John\", \"Chester\") is Relation(\"parent\", (\"John\", \"Chester\"))\n",
    "    man(X) is Relation(\"man\", (Variable(\"X\"),))\n",
    "\n",
    "    \"\"\"\n",
    "    name: str\n",
    "    attributes: Tuple"
   ]
  },
  {
   "cell_type": "markdown",
   "metadata": {},
   "source": [
    "A rule could be:\n",
    "- `person(X) :- man(X)` i.e. `X` is a person if he is man.\n",
    "- `father(X, Y) :- man(X), parent(X, Y)` i.e. `X` is a father of `Y` if `X` is a man and `X` is the parent of `Y`\n",
    "\n",
    "A rule has:\n",
    "- a head relation which is on the left of the `:-` symbol e.g. `person(X)` and `father(X, Y)` above\n",
    "- a body of relations which is on the right of the `:-` symbol e.g. `man(X)` and `man(X), parent(X, Y)` above\n",
    "\n",
    "Since Datalog is declarative, the order of the relations in the body does not matter. Both the statements below have the same meaning:\n",
    "\n",
    "`father(X, Y) :- man(X), parent(X, Y)`\n",
    "\n",
    "`father(X, Y) :- parent(X, Y), man(X)` # reversing the order does not matter\n",
    "\n",
    "So, the body can be represented as a set"
   ]
  },
  {
   "cell_type": "code",
   "execution_count": 5,
   "metadata": {},
   "outputs": [],
   "source": [
    "@dataclass(frozen=True, eq=True)\n",
    "class Rule:\n",
    "    head: Relation\n",
    "    body: Set[Relation]"
   ]
  },
  {
   "cell_type": "markdown",
   "metadata": {},
   "source": [
    "The last element of Datalog is the query. The simplest query is no rules, just facts.\n",
    "\n",
    "Given:\n",
    "\n",
    "```\n",
    "man(\"Abe)\n",
    "man(\"Bob\")\n",
    "woman(\"Abby\")\n",
    "```\n",
    "\n",
    "A query could be: `man(X)` # Find me all men\n",
    "\n",
    "The query should return: `{man(\"Bob\"), man(\"George\")}`\n",
    "\n",
    "This would be similar to a SQL query `select * from man`"
   ]
  },
  {
   "cell_type": "markdown",
   "metadata": {},
   "source": [
    "## Simple Relation Query"
   ]
  },
  {
   "cell_type": "markdown",
   "metadata": {},
   "source": [
    "The simplest query is to find a matching relation. Taking the above example, let's code that up in Python."
   ]
  },
  {
   "cell_type": "code",
   "execution_count": 6,
   "metadata": {},
   "outputs": [],
   "source": [
    "X = Variable('X')\n",
    "abe = Relation(\"man\", (\"Abe\",))\n",
    "bob = Relation(\"man\", (\"Bob\",))\n",
    "abby = Relation(\"woman\", (\"Abby\",))\n",
    "database = {abe, bob, abby}\n",
    "no_rules = [] \n",
    "query = Relation(\"man\", (X,))"
   ]
  },
  {
   "cell_type": "markdown",
   "metadata": {},
   "source": [
    "For some function `run_simplest`, I expect:\n",
    "`assert run_simplest(database, no_rules, query) == {abe, bob}`\n",
    "\n",
    "\n",
    "The simplest run would iterate through all the facts and filter those facts that match the query by relation name."
   ]
  },
  {
   "cell_type": "code",
   "execution_count": 7,
   "metadata": {},
   "outputs": [],
   "source": [
    "def name_match(fact: Relation, query: Relation) -> bool:\n",
    "    return fact.name == query.name\n",
    "\n",
    "def filter_facts(database: Set[Relation], query: Relation, match: Callable) -> Set[Relation]:\n",
    "    return {fact for fact in database if match(fact, query)}\n",
    "\n",
    "def run_simplest(database: Set[Relation], rules: List[Rule], query: Relation) -> Set[Relation]:\n",
    "    return filter_facts(database, query, name_match) \n",
    "\n",
    "assert run_simplest(database, no_rules, query) == {abe, bob}"
   ]
  },
  {
   "cell_type": "markdown",
   "metadata": {},
   "source": [
    "Let's add some facts of length two:\n",
    "\n",
    "```\n",
    "parent(\"Abe\", \"Bob\") # Abe is a parent of Bob\n",
    "parent(\"Abby\", \"Bob\")\n",
    "parent(\"Bob\", \"Carl\")\n",
    "parent(\"Bob\", \"Connor\")\n",
    "parent(\"Beatrice\", \"Carl\")\n",
    "```\n",
    "\n",
    "I may want to query who are the parents of Carl\n",
    "\n",
    "\n",
    "`parent(X, \"Carl\")` should return `{parent(\"Bob\", \"Carl\"), parent(\"Beatrice\", \"Carl\")}`\n",
    "\n",
    "`parent(X, \"Carl\")` is similar to `select * from parent where child = \"Carl\"` if there was a table `parent` with columns `parent` and `child`)\n",
    "\n",
    "The beauty of Datalog is that you can ask the inverse without additional code e.g. Who are the children of Bob\n",
    "\n",
    "`parent(\"Bob\", X)` should return `{parent(\"Bob\", \"Carl\"), parent(\"Bob\", \"Connor\")}`\n",
    "\n",
    "\n",
    "Let's code that up. Also from now on, I'm going to make a helper functions to make it easy to express relations like the lambda `parent` below."
   ]
  },
  {
   "cell_type": "code",
   "execution_count": 8,
   "metadata": {},
   "outputs": [],
   "source": [
    "parent = lambda parent, child: Relation(\"parent\", (parent, child))\n",
    "database = {\n",
    "    parent(\"Abe\", \"Bob\"), # Abe is a parent of Bob\n",
    "    parent(\"Abby\", \"Bob\"),\n",
    "    parent(\"Bob\", \"Carl\"),\n",
    "    parent(\"Bob\", \"Connor\"),\n",
    "    parent(\"Beatrice\", \"Carl\")\n",
    "}"
   ]
  },
  {
   "cell_type": "markdown",
   "metadata": {},
   "source": [
    "Now, to the implementation. For a query to match, an argument at position N in the query should match the argument at position N in the fact.\n",
    "For e.g\n",
    "`assert query_variable_match(parent(\"A\", \"Bob\"), parent(X, \"Bob\") ) == True`\n",
    "\n",
    "Logical variables are special. They get a free pass like `X` above."
   ]
  },
  {
   "cell_type": "code",
   "execution_count": 9,
   "metadata": {},
   "outputs": [],
   "source": [
    "def query_variable_match(fact: Relation, query: Relation) -> bool:\n",
    "    if fact.name != query.name:\n",
    "        return False\n",
    "\n",
    "    # TODO: zip is duplicated?\n",
    "    for query_attribute, fact_attribute in zip(query.attributes, fact.attributes):\n",
    "        if not isinstance(query_attribute, Variable) and query_attribute != fact_attribute:\n",
    "                return False\n",
    "    return True  \n",
    "\n",
    "assert query_variable_match(parent(\"A\", \"Bob\"), parent(X, \"Bob\") ) == True\n",
    "assert query_variable_match(parent(\"A\", \"Bob\"), parent(\"A\", X)) == True\n",
    "assert query_variable_match(parent(\"A\", \"NoMatch\"), parent(X, \"Bob\") ) == False \n",
    "\n",
    "def run_with_filter(database: Set[Relation], rules: List[Rule], query: Relation) -> Set[Relation]:\n",
    "    return filter_facts(database, query, query_variable_match)"
   ]
  },
  {
   "cell_type": "markdown",
   "metadata": {},
   "source": [
    "So does it work?"
   ]
  },
  {
   "cell_type": "code",
   "execution_count": 10,
   "metadata": {},
   "outputs": [],
   "source": [
    "parents_carl =  run_with_filter(database, [], parent(X, \"Carl\")) \n",
    "assert parents_carl == {parent(\"Bob\", \"Carl\"), parent(\"Beatrice\", \"Carl\")}\n",
    "\n",
    "children_bob =  run_with_filter(database, [], parent(\"Bob\", X)) \n",
    "assert children_bob == {parent(\"Bob\", \"Carl\"), parent(\"Bob\", \"Connor\")}"
   ]
  },
  {
   "cell_type": "markdown",
   "metadata": {},
   "source": [
    "## Simple Rule Query\n",
    "\n",
    "Let's add a rule to our program.\n",
    "\n",
    "```\n",
    "human(X) :- man(X) # You are human if you are man.\n",
    "```\n",
    "\n",
    "An example database below:\n",
    "\n",
    "```\n",
    "man(\"Bob\")\n",
    "man(\"George\")\n",
    "animal(\"Tiger\")\n",
    "```\n",
    "\n",
    "Query:\n",
    "\n",
    "```human(X)``` # Find me all humans\n",
    "\n",
    "The query should return:\n",
    "```{human(\"Bob\"), human(\"George\")}```"
   ]
  },
  {
   "cell_type": "code",
   "execution_count": 11,
   "metadata": {},
   "outputs": [],
   "source": [
    "man = lambda x: Relation(\"man\", (x,))\n",
    "animal = lambda x: Relation(\"animal\", (x,))\n",
    "human = lambda x: Relation(\"human\", (x,))\n",
    "X = Variable(\"X\")\n",
    "\n",
    "head = human(X) \n",
    "body = [man(X)]\n",
    "human_rule = Rule(head, body) # No pun was intended\n",
    "database = {\n",
    "    man(\"Abe\"),\n",
    "    man(\"Bob\"),\n",
    "    animal(\"Tiger\")\n",
    "}\n",
    "rules = [human_rule]\n",
    "query = human(X)"
   ]
  },
  {
   "cell_type": "markdown",
   "metadata": {},
   "source": [
    "For each rule, for each relation in it's body, if it matches with any of the facts in the database,\n",
    "then get the attributes of that fact and create a derived relation with those attributes.\n",
    "E.g., since we have `man(\"Abe\")` and our rule `human(X) :- man(X)`, we add a derived relation to our database `human(\"Abe\")`"
   ]
  },
  {
   "cell_type": "code",
   "execution_count": 12,
   "metadata": {},
   "outputs": [],
   "source": [
    "def match_relation_and_fact(relation: Relation, fact: Relation) -> Optional[Dict]:\n",
    "    if relation.name == fact.name:\n",
    "        return dict(zip(relation.attributes, fact.attributes))\n",
    "\n",
    "def match_relation_and_database(database: Set[Relation], relation: Relation) -> List[Dict]:\n",
    "    inferred_attributes = []\n",
    "    for fact in database:\n",
    "        attributes = match_relation_and_fact(relation, fact)\n",
    "        if attributes:\n",
    "            inferred_attributes.append(attributes)\n",
    "    return inferred_attributes\n",
    "\n",
    "\n",
    "def evaluate_rule_simple(rule: Rule, database: Set[Relation]) -> Set[Relation]:\n",
    "    relation = list(rule.body)[0] # For now, our body has only one relation\n",
    "    all_matches = match_relation_and_database(database, relation)\n",
    "    # We use the Python feature below that if we call `values` on a dictionary, \n",
    "    # it will preserve the order that was given when the dictionary was created\n",
    "    # i.e. in the `zip` inside `match_relation_and_database`. Thank God.\n",
    "    return {Relation(rule.head.name, tuple(attributes.values())) for attributes in all_matches}"
   ]
  },
  {
   "cell_type": "markdown",
   "metadata": {},
   "source": [
    "This `evaluate_rule_simple` can be passed to a function which will `evaluate` it on each rule for the database to generate the final knowledge base."
   ]
  },
  {
   "cell_type": "code",
   "execution_count": 13,
   "metadata": {},
   "outputs": [],
   "source": [
    "def generate_knowledgebase(evaluate: Callable, database: Set[Relation], rules: List[Rule]):\n",
    "    knowledge_base = database \n",
    "    for rule in rules:\n",
    "        evaluation = evaluate(rule, database)\n",
    "        knowledge_base = knowledge_base.union(evaluation)\n",
    "    return knowledge_base "
   ]
  },
  {
   "cell_type": "markdown",
   "metadata": {},
   "source": [
    "And finally, we have"
   ]
  },
  {
   "cell_type": "code",
   "execution_count": 14,
   "metadata": {},
   "outputs": [],
   "source": [
    "def run_rule_simple(database: Set[Relation], rules: List[Rule], query: Relation):\n",
    "    knowledge_base = generate_knowledgebase(evaluate_rule_simple, database, rules)\n",
    "    return filter_facts(knowledge_base, query, query_variable_match)\n",
    "\n",
    "# Test Cases\n",
    "simplest_rule_result = run_rule_simple(database, rules, query)\n",
    "assert simplest_rule_result == {human(\"Abe\"), human(\"Bob\")}, f\"result was {simplest_rule_result}\""
   ]
  },
  {
   "cell_type": "markdown",
   "metadata": {},
   "source": [
    "## Logical AND Query"
   ]
  },
  {
   "cell_type": "markdown",
   "metadata": {},
   "source": [
    "Next, we introduce logical AND(conjunction). i.e. Given\n",
    "\n",
    "```\n",
    "parent(\"Abe\", \"Bob\"), # Abe is a parent of Bob\n",
    "parent(\"Abby\", \"Bob\"),\n",
    "parent(\"Bob\", \"Carl\"),\n",
    "parent(\"Bob\", \"Connor\"),\n",
    "parent(\"Beatrice\", \"Carl\"),\n",
    "man(\"Abe\"),\n",
    "man(\"Bob\"),\n",
    "woman(\"Abby\"),\n",
    "woman(\"Beatrice\")\n",
    "```\n",
    "\n",
    "We'd like to find all the fathers in the house. A person is a father if he is a parent and he is a man. i.e.\n",
    "`father(X, Y) :- parent(X, Y), man(X)`"
   ]
  },
  {
   "cell_type": "code",
   "execution_count": 15,
   "metadata": {},
   "outputs": [],
   "source": [
    "X = Variable(\"X\")\n",
    "Y = Variable(\"Y\")\n",
    "woman = lambda x: Relation(\"woman\", (x,))\n",
    "father = lambda x, y: Relation(\"father\", (x, y))\n",
    "\n",
    "database = {\n",
    "    parent(\"Abe\", \"Bob\"), # Abe is a parent of Bob\n",
    "    parent(\"Abby\", \"Bob\"),\n",
    "    parent(\"Bob\", \"Carl\"),\n",
    "    parent(\"Bob\", \"Connor\"),\n",
    "    parent(\"Beatrice\", \"Carl\"),\n",
    "    man(\"Abe\"),\n",
    "    man(\"Bob\"),\n",
    "    woman(\"Abby\"),\n",
    "    woman(\"Beatrice\")\n",
    "}\n",
    "\n",
    "father_rule = Rule(father(X, Y), {parent(X, Y), man(X)})\n",
    "rules = [father_rule]\n",
    "query = father(X, Y)"
   ]
  },
  {
   "cell_type": "markdown",
   "metadata": {},
   "source": [
    "How does the match change? We need to add logic for the conjunction i.e. when we match the body to the facts, we have to check if the attributes of the facts match across the entire body,\n",
    "e.g. for the body `parent(X, Y), man(X)`\n",
    "* parent(\"Abe\", \"Bob\"), man(\"Abe\") is a match as there is a common value `Abe` across the entire body at same place as `X`.\n",
    "* parent(\"Abby\", \"Bob\") does not match as there is no `man(\"Abby\")`.\n",
    "\n",
    "Let's first code up this common value logic as `has_common_value`. We also have to start pairing variables to values e.g. `{'X': 'Abe'}`\n",
    "\n",
    "This combination below:\n",
    "\n",
    "`has_common_value({ X: 'Abe', Y: 'Bob'}, {X: 'Abe'})` should return `True`"
   ]
  },
  {
   "cell_type": "code",
   "execution_count": 16,
   "metadata": {},
   "outputs": [],
   "source": [
    "def has_common_value(attrs1: Dict[Variable, Any], attrs2: Dict[Variable, Any]) -> bool:\n",
    "    common_vars = set(attrs1.keys()).intersection(set(attrs2.keys()))\n",
    "    return all([attrs1[c] == attrs2[c] for c in common_vars])"
   ]
  },
  {
   "cell_type": "markdown",
   "metadata": {},
   "source": [
    "Once we have that, we know that `match_relation_and_database` will return as before, a list of body attributes which each match a fact in the database. It's time to conjunct. We may get some input like:\n",
    "\n",
    "```\n",
    "[[{X: 'Bob', Y: 'Carl'},    # <= All facts that match parent(X,Y)\n",
    "  {X: 'Beatrice', Y: 'Carl'},\n",
    "  {X: 'Abe', Y: 'Bob'},\n",
    "  {X: 'Abby', Y: 'Bob'},\n",
    "  {X: 'Bob', Y: 'Connor'}],\n",
    " [{X: 'Bob'},               # <= All facts that match man(X)\n",
    "  {X: 'Abe'}]]\n",
    "```\n",
    "\n",
    "For the body `man(X), parent(X, Y)`, we expect back from a function `conjunct`:\n",
    "\n",
    "```\n",
    "[{X: 'Bob', Y: 'Carl'},\n",
    " {X: 'Abe', Y: 'Bob'},\n",
    " {X: 'Bob', Y: 'Connor'}]\n",
    "```\n",
    "\n",
    "Just hacking it for now."
   ]
  },
  {
   "cell_type": "code",
   "execution_count": 17,
   "metadata": {},
   "outputs": [],
   "source": [
    "def conjunct(body_attributes: List[List[Dict]]) -> List:\n",
    "    # TODO: Does not cover body lengths greater than 2\n",
    "    result = []\n",
    "    if len(body_attributes) == 1:\n",
    "        return body_attributes[0]\n",
    "    \n",
    "    attr1 = body_attributes[0]\n",
    "    attr2 = body_attributes[1]\n",
    "    for a1 in attr1:\n",
    "        for a2 in attr2:\n",
    "            _c = has_common_value(a1, a2)\n",
    "            if _c:\n",
    "                result.append({**a1, **a2})\n",
    "    return result"
   ]
  },
  {
   "cell_type": "markdown",
   "metadata": {},
   "source": [
    "I also realized that though the body can return many attributes which have 'conjuncted', we only need those which are in the head.\n",
    "e.g. for a rule `relation1(X) :- relation2(X,Y), relation3(X)`, `relation1` just needs `X` so I'll just pull that."
   ]
  },
  {
   "cell_type": "code",
   "execution_count": 18,
   "metadata": {},
   "outputs": [],
   "source": [
    "def rule_attributes(relation: Relation, attr: Dict[Variable, Any]) -> Tuple:\n",
    "    return tuple([attr[a] for a in relation.attributes])"
   ]
  },
  {
   "cell_type": "markdown",
   "metadata": {},
   "source": [
    "So the final `evaluate` function becomes"
   ]
  },
  {
   "cell_type": "code",
   "execution_count": 19,
   "metadata": {},
   "outputs": [],
   "source": [
    "def evaluate_logical_operators_in_rule(rule: Rule, database: List[Relation]) -> Set[Relation]:\n",
    "    body_attributes = []\n",
    "\n",
    "    for relation in rule.body:\n",
    "        _attributes = match_relation_and_database(database, relation)\n",
    "        body_attributes.append(_attributes)\n",
    "\n",
    "    attributes = conjunct(body_attributes)\n",
    "    \n",
    "    return {Relation(rule.head.name, rule_attributes(rule.head, attr)) for attr in attributes}\n",
    "\n",
    "def run_logical_operators(database: Set[Relation], rules: List[Rule], query: Relation):\n",
    "    knowledge_base = generate_knowledgebase(evaluate_logical_operators_in_rule, database, rules)\n",
    "    return filter_facts(knowledge_base, query, query_variable_match)"
   ]
  },
  {
   "cell_type": "markdown",
   "metadata": {},
   "source": [
    "Let's test that it works for single relation bodies, preventing any regressions."
   ]
  },
  {
   "cell_type": "code",
   "execution_count": 20,
   "metadata": {},
   "outputs": [],
   "source": [
    "simple_conjunct_rules = [Rule(human(X), {man(X)})]\n",
    "assert run_logical_operators(database, simple_conjunct_rules, human(X)) == {human(\"Abe\"), human(\"Bob\")}"
   ]
  },
  {
   "cell_type": "markdown",
   "metadata": {},
   "source": [
    "And our final test"
   ]
  },
  {
   "cell_type": "code",
   "execution_count": 21,
   "metadata": {},
   "outputs": [],
   "source": [
    "assert run_logical_operators(database, rules, query) == {father(\"Abe\", \"Bob\"), father(\"Bob\", \"Carl\"), father(\"Bob\", \"Connor\")}"
   ]
  },
  {
   "cell_type": "markdown",
   "metadata": {},
   "source": [
    "## Logical OR Query"
   ]
  },
  {
   "cell_type": "markdown",
   "metadata": {},
   "source": [
    "Logical OR is just specifying two separate rules with the same head. E.g.\n",
    "\n",
    "```\n",
    "human(X) :- man(X)\n",
    "human(X) :- woman(X)\n",
    "```\n",
    "\n",
    "In Python, given:"
   ]
  },
  {
   "cell_type": "code",
   "execution_count": 22,
   "metadata": {},
   "outputs": [],
   "source": [
    "database = {\n",
    "    animal(\"Tiger\"),\n",
    "    man(\"Abe\"),\n",
    "    man(\"Bob\"),\n",
    "    woman(\"Abby\"),\n",
    "    woman(\"Beatrice\")\n",
    "}\n",
    "\n",
    "man_rule = Rule(human(X), {man(X)})\n",
    "woman_rule = Rule(human(X), {woman(X)})\n",
    "rules = [man_rule, woman_rule]\n",
    "query = human(X)\n",
    "\n",
    "assert run_logical_operators(database, rules, query) == {\n",
    "    human(\"Abe\"),\n",
    "    human(\"Bob\"),\n",
    "    human(\"Abby\"),\n",
    "    human(\"Beatrice\")\n",
    "}"
   ]
  },
  {
   "cell_type": "markdown",
   "metadata": {},
   "source": [
    "## Recursive Relations Query"
   ]
  },
  {
   "cell_type": "markdown",
   "metadata": {},
   "source": [
    "Next, we introduce the reason why we are interested in Datalog. Datalog intuitively captures hierarchies or recursion. E.g. we want to find all who are ancestors of someone.\n",
    "Given:\n",
    "```\n",
    "parent(\"A\", \"B\") # A is the parent of B\n",
    "parent(\"B\", \"C\")\n",
    "parent(\"C\", \"D\")\n",
    "parent(\"AA\", \"BB\")\n",
    "parent(\"BB\", \"CC\")\n",
    "```\n",
    "\n",
    "A parent X of Y is by definition an ancestor.\n",
    "\n",
    "`ancestor(X, Y) :- parent(X, Y)`\n",
    "\n",
    "If you are a parent of Y and Y is an an ancestor, then you are an ancestor as well.\n",
    "\n",
    "`ancestor(X, Z) :- parent(X, Y), ancestor(Y, Z)`\n",
    "\n",
    "Query: `ancestor(X, Y)` should return all the parents above as ancestors \n",
    "```\n",
    "ancestor(\"A\", \"B\") # A is the ancestor of B\n",
    "ancestor(\"A\", \"C\") # A -> B -> C\n",
    "ancestor(\"A\", \"D\") # A -> B -> C -> D\n",
    "ancestor(\"B\", \"C\")\n",
    "ancestor(\"B\", \"D\") # B -> C -> D\n",
    "ancestor(\"C\", \"D\")\n",
    "ancestor(\"AA\", \"BB\")\n",
    "ancestor(\"AA\", \"CC\") # AA -> BB -> CC\n",
    "ancestor(\"BB\", \"CC\")\n",
    "```\n",
    "In Python,"
   ]
  },
  {
   "cell_type": "code",
   "execution_count": 23,
   "metadata": {},
   "outputs": [],
   "source": [
    "ancestor = lambda ancestor, descendant: Relation('ancestor', (ancestor, descendant))\n",
    "\n",
    "database = {\n",
    "    parent(\"A\", \"B\"), \n",
    "    parent(\"B\", \"C\"), \n",
    "    parent(\"C\", \"D\"), \n",
    "    parent(\"AA\", \"BB\"),\n",
    "    parent(\"BB\", \"CC\")\n",
    "}\n",
    "\n",
    "\n",
    "X = Variable(\"X\")\n",
    "Y = Variable(\"Y\")\n",
    "Z = Variable(\"Z\")\n",
    "# ancestor(X, Y) :- parent(X, Y)\n",
    "ancestor_rule_base = Rule(ancestor(X, Y), [parent(X, Y)])\n",
    "# ancestor(X, Z) :- parent(X, Y), ancestor(Y, Z)\n",
    "ancestor_rule_recursive = Rule(ancestor(X, Z), {parent(X, Y), ancestor(Y, Z)})\n",
    "\n",
    "rules = [ancestor_rule_base, ancestor_rule_recursive]"
   ]
  },
  {
   "cell_type": "markdown",
   "metadata": {},
   "source": [
    "Alright, let's dive into this. What is different from run_logical_operator? It's the hierarchy or recursion. If you see it as hierarchy(I'm visualizing this as a tree), one has to keep on going until we reach the top of the tree.\n",
    "\n",
    "![](./img/ancestor-hierarchy.png)\n",
    "\n",
    "So let's imagine how we would process the above example. In the first pass, we would do the simplest inference from base fact to derived fact using the base rule of `ancestor(X, Y) :- parent(X, Y)`.\n",
    "\n",
    "Showing one hierarchy as an example(starting from `A`).\n",
    "\n",
    "![](./img/iterative-ancestry-depth1.png)\n",
    "\n",
    "```\n",
    "Pass 1: Base Facts and Inferred facts i.e. KnowledgeBase1\n",
    "parent(\"A\", \"B\"),\n",
    "parent(\"B\", \"C\"),\n",
    "parent(\"C\", \"D\"),\n",
    "parent(\"AA\", \"BB\"),\n",
    "parent(\"BB\", \"CC\")]\n",
    "# ----------------- New inferred facts below --------------\n",
    "ancestor(\"A\", \"B\"),\n",
    "ancestor(\"B\", \"C\"),\n",
    "ancestor(\"C\", \"D\"),\n",
    "ancestor(\"AA\", \"BB\"),\n",
    "ancestor(\"BB\", \"CC\")\n",
    "```\n",
    "\n",
    "Now that's done, we can focus on inference from a combination of inferred facts and base facts to new inferred facts using the recursive rule `ancestor(X, Z) :- parent(X, Y), ancestor(Y, Z)`. For e.g. in `KnowledgeBase1`, we have `parent(\"C\",\"D\")` and `ancestor(\"B\", \"C\")` , so we can infer the fact `ancestor(\"B\", \"D\")` i.e grandparents. We keep on doing this till we get:\n",
    "\n",
    "![](./img/iterative-ancestry-depth2.png)\n",
    "\n",
    "```\n",
    "Pass 2: KnowledgeBase2\n",
    "parent(\"A\", \"B\"),\n",
    "parent(\"B\", \"C\"),\n",
    "parent(\"C\", \"D\"),\n",
    "parent(\"AA\", \"BB\"),\n",
    "parent(\"BB\", \"CC\")\n",
    "ancestor(\"A\", \"B\"),\n",
    "ancestor(\"B\", \"C\"),\n",
    "ancestor(\"C\", \"D\"),\n",
    "ancestor(\"AA\", \"BB\"),\n",
    "ancestor(\"BB\", \"CC\")\n",
    "# ----------------- New inferred facts below --------------\n",
    "ancestor(\"A\", \"C\")\n",
    "ancestor(\"B\", \"D\")\n",
    "ancestor(\"AA\", \"CC\")\n",
    "```\n",
    "\n",
    "Do we stop? No, we have to keep on going till we find all the ancestors. Let's apply the rules to `KnowledgeBase2` and get\n",
    "\n",
    "![](./img/iterative-ancestry-depth3.png)\n",
    "\n",
    "```\n",
    "Pass 3: KnowledgeBase3\n",
    "parent(\"A\", \"B\"),\n",
    "parent(\"B\", \"C\"),\n",
    "parent(\"C\", \"D\"),\n",
    "parent(\"AA\", \"BB\"),\n",
    "parent(\"BB\", \"CC\")\n",
    "ancestor(\"A\", \"B\"),\n",
    "ancestor(\"B\", \"C\"),\n",
    "ancestor(\"C\", \"D\"),\n",
    "ancestor(\"AA\", \"BB\"),\n",
    "ancestor(\"BB\", \"CC\")\n",
    "ancestor(\"A\", \"C\")\n",
    "ancestor(\"B\", \"D\")\n",
    "ancestor(\"AA\", \"CC\")\n",
    "# ----------------- New inferred facts below --------------\n",
    "ancestor(\"A\", \"D\")\n",
    "```\n",
    "\n",
    "i.e `A` is the great grand parent of `D`\n",
    "\n",
    "Do we stop? Yes(if you look at the above example), but the computer does not know that. There could be new inferred facts, so let's try again for `KnowledgeBase4`.\n",
    "\n",
    "```\n",
    "Pass 4: KnowledgeBase4\n",
    "parent(\"A\", \"B\"),\n",
    "parent(\"B\", \"C\"),\n",
    "parent(\"C\", \"D\"),\n",
    "parent(\"AA\", \"BB\"),\n",
    "parent(\"BB\", \"CC\"),\n",
    "ancestor(\"A\", \"B\"),\n",
    "ancestor(\"B\", \"C\"),\n",
    "ancestor(\"C\", \"D\"),\n",
    "ancestor(\"AA\", \"BB\"),\n",
    "ancestor(\"BB\", \"CC\")\n",
    "ancestor(\"A\", \"C\")\n",
    "ancestor(\"B\", \"D\")\n",
    "ancestor(\"AA\", \"CC\")\n",
    "ancestor(\"A\", \"D\")\n",
    "# ----------------- New inferred facts below --------------\n",
    "No New Facts\n",
    "```\n",
    "\n",
    "Aha! There are no more new inferred facts. If we do another pass on `KnowledgeBase4`, it would come out the same. So we can stop!\n",
    "\n",
    "So the logic to stop would be:\n",
    "Take the output of each iteration. If it matches the input to that iteration, stop(as we did not learn any new inferred facts). If not a match, then run another iteration. Let's call this method `iterate_until_no_change`."
   ]
  },
  {
   "cell_type": "code",
   "execution_count": 24,
   "metadata": {},
   "outputs": [],
   "source": [
    "def iterate_until_no_change(transform: Callable, initial_value: Set) -> Set:\n",
    "    a_input = initial_value\n",
    "\n",
    "    while True:\n",
    "        a_output = transform(a_input)\n",
    "        if a_output == a_input:\n",
    "            return a_output\n",
    "        a_input = a_output"
   ]
  },
  {
   "cell_type": "markdown",
   "metadata": {},
   "source": [
    "Now, we already have `run_logical_operator`. That will be our `transform` function above. So putting this all together below."
   ]
  },
  {
   "cell_type": "code",
   "execution_count": 25,
   "metadata": {},
   "outputs": [],
   "source": [
    "def run_recursive(database: Set[Relation], rules: List[Rule], query: Relation):\n",
    "    transformer = lambda a_knowledgebase: generate_knowledgebase(evaluate_logical_operators_in_rule, a_knowledgebase, rules)\n",
    "    knowledgebase = iterate_until_no_change(transformer, database)\n",
    "    return filter_facts(knowledgebase, query, query_variable_match)"
   ]
  },
  {
   "cell_type": "markdown",
   "metadata": {},
   "source": [
    "Let's define the query"
   ]
  },
  {
   "cell_type": "code",
   "execution_count": 26,
   "metadata": {},
   "outputs": [],
   "source": [
    "query = ancestor(X, Y)\n",
    "\n",
    "recursive_result = run_recursive(database, rules, query)\n",
    "\n",
    "expected_result = {\n",
    "    ancestor(\"A\", \"B\"), \n",
    "    ancestor(\"B\", \"C\"), \n",
    "    ancestor(\"C\", \"D\"), \n",
    "    ancestor(\"AA\", \"BB\"),\n",
    "    ancestor(\"BB\", \"CC\"),\n",
    "    ancestor(\"A\", \"C\"),\n",
    "    ancestor(\"B\", \"D\"),\n",
    "    ancestor(\"AA\", \"CC\"),\n",
    "    ancestor(\"A\", \"D\")\n",
    "}\n",
    "\n",
    "assert recursive_result == expected_result, f\"{recursive_result} not equal to {expected_result}\""
   ]
  },
  {
   "cell_type": "markdown",
   "metadata": {},
   "source": [
    "Let's explore other queries we can ask.\n",
    "Is `AA` the ancestor of `C`?(No! Such an impolite question)"
   ]
  },
  {
   "cell_type": "code",
   "execution_count": 27,
   "metadata": {},
   "outputs": [],
   "source": [
    "query = ancestor(\"AA\", \"C\")\n",
    "\n",
    "assert run_recursive(database, rules, query) == set()"
   ]
  },
  {
   "cell_type": "markdown",
   "metadata": {},
   "source": [
    "What if I want to find all ancestors of `C`?"
   ]
  },
  {
   "cell_type": "code",
   "execution_count": 28,
   "metadata": {},
   "outputs": [],
   "source": [
    "query = ancestor(X, \"C\")\n",
    "assert run_recursive(database, rules, query) == {ancestor(\"A\", \"C\"), ancestor(\"B\", \"C\")}"
   ]
  },
  {
   "cell_type": "markdown",
   "metadata": {},
   "source": [
    "What if I want to find who all are the descendants of `AA`. Again, use the same query but just reverse the order!"
   ]
  },
  {
   "cell_type": "code",
   "execution_count": 29,
   "metadata": {},
   "outputs": [],
   "source": [
    "query = ancestor(\"AA\", X)\n",
    "assert run_recursive(database, rules, query) == {ancestor(\"AA\", \"BB\"), ancestor(\"AA\", \"CC\")}"
   ]
  },
  {
   "cell_type": "markdown",
   "metadata": {},
   "source": [
    "Finally, who are the intermediates between `A` and `D` i.e. `B` and `C`.\n",
    "\n",
    "`Z` is an intermediate of `X` and `Y` if `X` is it's ancestor and `Y` is its descendant.\n",
    "\n",
    "```\n",
    "intermediate(Z, X, Y) :- ancestor(X, Z), ancestor(Z, Y)\n",
    "```\n",
    "\n",
    "In Python,"
   ]
  },
  {
   "cell_type": "code",
   "execution_count": 30,
   "metadata": {},
   "outputs": [],
   "source": [
    "intermediate = lambda intermediate, start, end: Relation(\"intermediate\", (intermediate, start, end))\n",
    "intermediate_head = intermediate(Z, X, Y)\n",
    "intermediate_body = {ancestor(X, Z), ancestor(Z, Y)} \n",
    "intermediate_rule = Rule(intermediate_head, intermediate_body)\n",
    "\n",
    "rules = [ancestor_rule_base, ancestor_rule_recursive, intermediate_rule]\n",
    "query = intermediate(Z, \"A\", \"D\")\n",
    "\n",
    "assert run_recursive(database, rules, query) == {intermediate(\"B\", \"A\", \"D\"), intermediate(\"C\", \"A\", \"D\")}"
   ]
  },
  {
   "cell_type": "markdown",
   "metadata": {},
   "source": [
    "## Extra Extra. Read All About It\n",
    "* This post was inspired by this [post](https://dodisturb.me/posts/2018-12-25-The-Essence-of-Datalog.html). \n",
    "* SQL does support [recursion](https://dba.stackexchange.com/a/94944/146211). I just find Datalog has a cleaner syntax.\n",
    "\n",
    "* One aspect of Datalog being declarative is that the order of rules does not matter either. So technically, instead of `rules = [rule1, rule2]`, we could have used `rules = frozenset([rule1, rule2])`. The latter is a bit more clutter so I used simple lists."
   ]
  }
 ],
 "metadata": {
  "jupytext": {
   "cell_metadata_filter": "-all",
   "formats": "md:myst",
   "text_representation": {
    "extension": ".md",
    "format_name": "myst",
    "format_version": 0.12,
    "jupytext_version": "1.6.0"
   }
  },
  "kernelspec": {
   "display_name": "Python 3.8.5 64-bit ('venv': venv)",
   "language": "python",
   "name": "python38564bitvenvvenvf10b41cff9014ab2ae676a586aa9af64"
  },
  "language_info": {
   "codemirror_mode": {
    "name": "ipython",
    "version": 3
   },
   "file_extension": ".py",
   "mimetype": "text/x-python",
   "name": "python",
   "nbconvert_exporter": "python",
   "pygments_lexer": "ipython3",
   "version": "3.8.5"
  },
  "source_map": [
   14,
   18,
   22,
   46,
   50,
   54,
   60,
   62,
   75,
   86,
   104,
   109,
   127,
   131,
   135,
   143,
   151,
   162,
   188,
   197,
   205,
   222,
   226,
   232,
   257,
   273,
   279,
   300,
   304,
   311,
   315,
   323,
   327,
   346,
   367,
   380,
   384,
   408,
   423,
   428,
   431,
   435,
   450,
   454,
   457,
   461,
   463,
   467,
   478,
   498,
   502,
   536,
   557,
   658,
   667,
   671,
   676,
   680,
   698,
   703,
   707,
   711,
   714,
   718,
   721,
   733,
   743
  ]
 },
 "nbformat": 4,
 "nbformat_minor": 4
}